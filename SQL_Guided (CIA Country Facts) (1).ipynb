{
 "cells": [
  {
   "cell_type": "markdown",
   "id": "5f8023ab",
   "metadata": {},
   "source": [
    "This SQL code was written utilizing Jupyter. This data was for a guided project in a certificate I am currently working on. Jupyter is a python coding program, so this project first needed to download the SQL coding tool. Each section starts with the command %% sql which tells Jupyter to run the following code as though it were SQL, not python. The first command box is where I load the SQL tool, and my dataset."
   ]
  },
  {
   "cell_type": "code",
   "execution_count": 11,
   "id": "d386901f",
   "metadata": {},
   "outputs": [],
   "source": [
    "%%capture\n",
    "%load_ext sql\n",
    "%sql sqlite:///factbook.db"
   ]
  },
  {
   "cell_type": "code",
   "execution_count": 12,
   "id": "391bc88e",
   "metadata": {},
   "outputs": [
    {
     "name": "stdout",
     "output_type": "stream",
     "text": [
      " * sqlite:///factbook.db\n",
      "Done.\n"
     ]
    },
    {
     "data": {
      "text/html": [
       "<table>\n",
       "    <thead>\n",
       "        <tr>\n",
       "            <th>type</th>\n",
       "            <th>name</th>\n",
       "            <th>tbl_name</th>\n",
       "            <th>rootpage</th>\n",
       "            <th>sql</th>\n",
       "        </tr>\n",
       "    </thead>\n",
       "    <tbody>\n",
       "        <tr>\n",
       "            <td>table</td>\n",
       "            <td>sqlite_sequence</td>\n",
       "            <td>sqlite_sequence</td>\n",
       "            <td>3</td>\n",
       "            <td>CREATE TABLE sqlite_sequence(name,seq)</td>\n",
       "        </tr>\n",
       "        <tr>\n",
       "            <td>table</td>\n",
       "            <td>facts</td>\n",
       "            <td>facts</td>\n",
       "            <td>47</td>\n",
       "            <td>CREATE TABLE &quot;facts&quot; (&quot;id&quot; INTEGER PRIMARY KEY AUTOINCREMENT NOT NULL, &quot;code&quot; varchar(255) NOT NULL, &quot;name&quot; varchar(255) NOT NULL, &quot;area&quot; integer, &quot;area_land&quot; integer, &quot;area_water&quot; integer, &quot;population&quot; integer, &quot;population_growth&quot; float, &quot;birth_rate&quot; float, &quot;death_rate&quot; float, &quot;migration_rate&quot; float)</td>\n",
       "        </tr>\n",
       "    </tbody>\n",
       "</table>"
      ],
      "text/plain": [
       "[('table', 'sqlite_sequence', 'sqlite_sequence', 3, 'CREATE TABLE sqlite_sequence(name,seq)'),\n",
       " ('table', 'facts', 'facts', 47, 'CREATE TABLE \"facts\" (\"id\" INTEGER PRIMARY KEY AUTOINCREMENT NOT NULL, \"code\" varchar(255) NOT NULL, \"name\" varchar(255) NOT NULL, \"area\" integer, \"a ... (4 characters truncated) ... land\" integer, \"area_water\" integer, \"population\" integer, \"population_growth\" float, \"birth_rate\" float, \"death_rate\" float, \"migration_rate\" float)')]"
      ]
     },
     "execution_count": 12,
     "metadata": {},
     "output_type": "execute_result"
    }
   ],
   "source": [
    "%%sql\n",
    "SELECT *\n",
    "  FROM sqlite_master\n",
    " WHERE type='table';"
   ]
  },
  {
   "cell_type": "markdown",
   "id": "dec03a97",
   "metadata": {},
   "source": [
    "These are the first 5 rows from the CIA's \"factbook\" data set."
   ]
  },
  {
   "cell_type": "code",
   "execution_count": 13,
   "id": "acec976a",
   "metadata": {},
   "outputs": [
    {
     "name": "stdout",
     "output_type": "stream",
     "text": [
      " * sqlite:///factbook.db\n",
      "Done.\n"
     ]
    },
    {
     "data": {
      "text/html": [
       "<table>\n",
       "    <thead>\n",
       "        <tr>\n",
       "            <th>id</th>\n",
       "            <th>code</th>\n",
       "            <th>name</th>\n",
       "            <th>area</th>\n",
       "            <th>area_land</th>\n",
       "            <th>area_water</th>\n",
       "            <th>population</th>\n",
       "            <th>population_growth</th>\n",
       "            <th>birth_rate</th>\n",
       "            <th>death_rate</th>\n",
       "            <th>migration_rate</th>\n",
       "        </tr>\n",
       "    </thead>\n",
       "    <tbody>\n",
       "        <tr>\n",
       "            <td>1</td>\n",
       "            <td>af</td>\n",
       "            <td>Afghanistan</td>\n",
       "            <td>652230</td>\n",
       "            <td>652230</td>\n",
       "            <td>0</td>\n",
       "            <td>32564342</td>\n",
       "            <td>2.32</td>\n",
       "            <td>38.57</td>\n",
       "            <td>13.89</td>\n",
       "            <td>1.51</td>\n",
       "        </tr>\n",
       "        <tr>\n",
       "            <td>2</td>\n",
       "            <td>al</td>\n",
       "            <td>Albania</td>\n",
       "            <td>28748</td>\n",
       "            <td>27398</td>\n",
       "            <td>1350</td>\n",
       "            <td>3029278</td>\n",
       "            <td>0.3</td>\n",
       "            <td>12.92</td>\n",
       "            <td>6.58</td>\n",
       "            <td>3.3</td>\n",
       "        </tr>\n",
       "        <tr>\n",
       "            <td>3</td>\n",
       "            <td>ag</td>\n",
       "            <td>Algeria</td>\n",
       "            <td>2381741</td>\n",
       "            <td>2381741</td>\n",
       "            <td>0</td>\n",
       "            <td>39542166</td>\n",
       "            <td>1.84</td>\n",
       "            <td>23.67</td>\n",
       "            <td>4.31</td>\n",
       "            <td>0.92</td>\n",
       "        </tr>\n",
       "        <tr>\n",
       "            <td>4</td>\n",
       "            <td>an</td>\n",
       "            <td>Andorra</td>\n",
       "            <td>468</td>\n",
       "            <td>468</td>\n",
       "            <td>0</td>\n",
       "            <td>85580</td>\n",
       "            <td>0.12</td>\n",
       "            <td>8.13</td>\n",
       "            <td>6.96</td>\n",
       "            <td>0.0</td>\n",
       "        </tr>\n",
       "        <tr>\n",
       "            <td>5</td>\n",
       "            <td>ao</td>\n",
       "            <td>Angola</td>\n",
       "            <td>1246700</td>\n",
       "            <td>1246700</td>\n",
       "            <td>0</td>\n",
       "            <td>19625353</td>\n",
       "            <td>2.78</td>\n",
       "            <td>38.78</td>\n",
       "            <td>11.49</td>\n",
       "            <td>0.46</td>\n",
       "        </tr>\n",
       "    </tbody>\n",
       "</table>"
      ],
      "text/plain": [
       "[(1, 'af', 'Afghanistan', 652230, 652230, 0, 32564342, 2.32, 38.57, 13.89, 1.51),\n",
       " (2, 'al', 'Albania', 28748, 27398, 1350, 3029278, 0.3, 12.92, 6.58, 3.3),\n",
       " (3, 'ag', 'Algeria', 2381741, 2381741, 0, 39542166, 1.84, 23.67, 4.31, 0.92),\n",
       " (4, 'an', 'Andorra', 468, 468, 0, 85580, 0.12, 8.13, 6.96, 0.0),\n",
       " (5, 'ao', 'Angola', 1246700, 1246700, 0, 19625353, 2.78, 38.78, 11.49, 0.46)]"
      ]
     },
     "execution_count": 13,
     "metadata": {},
     "output_type": "execute_result"
    }
   ],
   "source": [
    "%%sql\n",
    "SELECT *\n",
    "  FROM facts\n",
    " LIMIT 5;"
   ]
  },
  {
   "cell_type": "markdown",
   "id": "c2e2bdda",
   "metadata": {},
   "source": [
    "Next the project wanted to know the spread of the population, as well as the population growth rate."
   ]
  },
  {
   "cell_type": "code",
   "execution_count": 14,
   "id": "1669d661",
   "metadata": {},
   "outputs": [
    {
     "name": "stdout",
     "output_type": "stream",
     "text": [
      " * sqlite:///factbook.db\n",
      "Done.\n"
     ]
    },
    {
     "data": {
      "text/html": [
       "<table>\n",
       "    <thead>\n",
       "        <tr>\n",
       "            <th>min_pop</th>\n",
       "            <th>max_pop</th>\n",
       "            <th>min_pop_gro</th>\n",
       "            <th>max_pop_gro</th>\n",
       "        </tr>\n",
       "    </thead>\n",
       "    <tbody>\n",
       "        <tr>\n",
       "            <td>0</td>\n",
       "            <td>7256490011</td>\n",
       "            <td>0.0</td>\n",
       "            <td>4.02</td>\n",
       "        </tr>\n",
       "    </tbody>\n",
       "</table>"
      ],
      "text/plain": [
       "[(0, 7256490011, 0.0, 4.02)]"
      ]
     },
     "execution_count": 14,
     "metadata": {},
     "output_type": "execute_result"
    }
   ],
   "source": [
    "%%sql\n",
    "SELECT MIN(population) min_pop, MAX(population) max_pop, MIN(population_growth) min_pop_gro, MAX(population_growth) max_pop_gro\n",
    "  FROM facts;"
   ]
  },
  {
   "cell_type": "markdown",
   "id": "555713ba",
   "metadata": {},
   "source": [
    "Identifying the limits of the population variable, it seemed curious that a country would have a population of 0, and that another would have a populatino over 7 billion. The next line of code was used to identify what was happening here."
   ]
  },
  {
   "cell_type": "code",
   "execution_count": 15,
   "id": "6b577097",
   "metadata": {},
   "outputs": [
    {
     "name": "stdout",
     "output_type": "stream",
     "text": [
      " * sqlite:///factbook.db\n",
      "Done.\n"
     ]
    },
    {
     "data": {
      "text/html": [
       "<table>\n",
       "    <thead>\n",
       "        <tr>\n",
       "            <th>name</th>\n",
       "        </tr>\n",
       "    </thead>\n",
       "    <tbody>\n",
       "        <tr>\n",
       "            <td>Antarctica</td>\n",
       "        </tr>\n",
       "        <tr>\n",
       "            <td>World</td>\n",
       "        </tr>\n",
       "    </tbody>\n",
       "</table>"
      ],
      "text/plain": [
       "[('Antarctica',), ('World',)]"
      ]
     },
     "execution_count": 15,
     "metadata": {},
     "output_type": "execute_result"
    }
   ],
   "source": [
    "%%sql\n",
    "SELECT name\n",
    "  FROM facts\n",
    " WHERE (population = 0)\n",
    "    OR (population = 7256490011);"
   ]
  },
  {
   "cell_type": "markdown",
   "id": "805b1301",
   "metadata": {},
   "source": [
    "We can now see that only one country has a population of 0, and that country is Antarctica. We can also see that our data has a country named \"World.\" This is obviously not a country, and will be removed from all future calculations. I then reran the spread of population and population growth, removing the outlier, \"World,\" from the calculations."
   ]
  },
  {
   "cell_type": "code",
   "execution_count": 16,
   "id": "c2a67b71",
   "metadata": {},
   "outputs": [
    {
     "name": "stdout",
     "output_type": "stream",
     "text": [
      " * sqlite:///factbook.db\n",
      "Done.\n"
     ]
    },
    {
     "data": {
      "text/html": [
       "<table>\n",
       "    <thead>\n",
       "        <tr>\n",
       "            <th>MIN(population)</th>\n",
       "            <th>MAX(population)</th>\n",
       "            <th>MIN(population_growth)</th>\n",
       "            <th>MAX(population_growth)</th>\n",
       "        </tr>\n",
       "    </thead>\n",
       "    <tbody>\n",
       "        <tr>\n",
       "            <td>0</td>\n",
       "            <td>1367485388</td>\n",
       "            <td>0.0</td>\n",
       "            <td>4.02</td>\n",
       "        </tr>\n",
       "    </tbody>\n",
       "</table>"
      ],
      "text/plain": [
       "[(0, 1367485388, 0.0, 4.02)]"
      ]
     },
     "execution_count": 16,
     "metadata": {},
     "output_type": "execute_result"
    }
   ],
   "source": [
    "%%sql\n",
    "SELECT MIN(population), MAX(population), MIN(population_growth), MAX(population_growth)\n",
    "  FROM facts\n",
    " WHERE (name <> 'World');"
   ]
  },
  {
   "cell_type": "markdown",
   "id": "e2e98ca0",
   "metadata": {},
   "source": [
    "To help identify countries of interest, we first calculated the averages for population and the size (area) of the countries in our data set. These will be used later as qualifying parameters."
   ]
  },
  {
   "cell_type": "code",
   "execution_count": 17,
   "id": "23beb00c",
   "metadata": {},
   "outputs": [
    {
     "name": "stdout",
     "output_type": "stream",
     "text": [
      " * sqlite:///factbook.db\n",
      "Done.\n"
     ]
    },
    {
     "data": {
      "text/html": [
       "<table>\n",
       "    <thead>\n",
       "        <tr>\n",
       "            <th>ROUND(AVG(population), 2)</th>\n",
       "            <th>ROUND(AVG(area), 2)</th>\n",
       "        </tr>\n",
       "    </thead>\n",
       "    <tbody>\n",
       "        <tr>\n",
       "            <td>32242666.57</td>\n",
       "            <td>555093.55</td>\n",
       "        </tr>\n",
       "    </tbody>\n",
       "</table>"
      ],
      "text/plain": [
       "[(32242666.57, 555093.55)]"
      ]
     },
     "execution_count": 17,
     "metadata": {},
     "output_type": "execute_result"
    }
   ],
   "source": [
    "%%sql\n",
    "SELECT ROUND(AVG(population), 2), ROUND(AVG(area), 2)\n",
    "  FROM facts\n",
    " WHERE (name <> 'World');"
   ]
  },
  {
   "cell_type": "markdown",
   "id": "7fd922c9",
   "metadata": {},
   "source": [
    "To close out the guided project we wanted to identify countries which have populations greater than the average population, and were also smaller than the average country. This is where the guided project ended. I ordered these countries by their population in descending order."
   ]
  },
  {
   "cell_type": "code",
   "execution_count": 19,
   "id": "be7a036c",
   "metadata": {},
   "outputs": [
    {
     "name": "stdout",
     "output_type": "stream",
     "text": [
      " * sqlite:///factbook.db\n",
      "Done.\n"
     ]
    },
    {
     "data": {
      "text/html": [
       "<table>\n",
       "    <thead>\n",
       "        <tr>\n",
       "            <th>id</th>\n",
       "            <th>code</th>\n",
       "            <th>name</th>\n",
       "            <th>area</th>\n",
       "            <th>area_land</th>\n",
       "            <th>area_water</th>\n",
       "            <th>population</th>\n",
       "            <th>population_growth</th>\n",
       "            <th>birth_rate</th>\n",
       "            <th>death_rate</th>\n",
       "            <th>migration_rate</th>\n",
       "        </tr>\n",
       "    </thead>\n",
       "    <tbody>\n",
       "        <tr>\n",
       "            <td>14</td>\n",
       "            <td>bg</td>\n",
       "            <td>Bangladesh</td>\n",
       "            <td>148460</td>\n",
       "            <td>130170</td>\n",
       "            <td>18290</td>\n",
       "            <td>168957745</td>\n",
       "            <td>1.6</td>\n",
       "            <td>21.14</td>\n",
       "            <td>5.61</td>\n",
       "            <td>0.46</td>\n",
       "        </tr>\n",
       "        <tr>\n",
       "            <td>85</td>\n",
       "            <td>ja</td>\n",
       "            <td>Japan</td>\n",
       "            <td>377915</td>\n",
       "            <td>364485</td>\n",
       "            <td>13430</td>\n",
       "            <td>126919659</td>\n",
       "            <td>0.16</td>\n",
       "            <td>7.93</td>\n",
       "            <td>9.51</td>\n",
       "            <td>0.0</td>\n",
       "        </tr>\n",
       "        <tr>\n",
       "            <td>138</td>\n",
       "            <td>rp</td>\n",
       "            <td>Philippines</td>\n",
       "            <td>300000</td>\n",
       "            <td>298170</td>\n",
       "            <td>1830</td>\n",
       "            <td>100998376</td>\n",
       "            <td>1.61</td>\n",
       "            <td>24.27</td>\n",
       "            <td>6.11</td>\n",
       "            <td>2.09</td>\n",
       "        </tr>\n",
       "        <tr>\n",
       "            <td>192</td>\n",
       "            <td>vm</td>\n",
       "            <td>Vietnam</td>\n",
       "            <td>331210</td>\n",
       "            <td>310070</td>\n",
       "            <td>21140</td>\n",
       "            <td>94348835</td>\n",
       "            <td>0.97</td>\n",
       "            <td>15.96</td>\n",
       "            <td>5.93</td>\n",
       "            <td>0.3</td>\n",
       "        </tr>\n",
       "        <tr>\n",
       "            <td>65</td>\n",
       "            <td>gm</td>\n",
       "            <td>Germany</td>\n",
       "            <td>357022</td>\n",
       "            <td>348672</td>\n",
       "            <td>8350</td>\n",
       "            <td>80854408</td>\n",
       "            <td>0.17</td>\n",
       "            <td>8.47</td>\n",
       "            <td>11.42</td>\n",
       "            <td>1.24</td>\n",
       "        </tr>\n",
       "        <tr>\n",
       "            <td>173</td>\n",
       "            <td>th</td>\n",
       "            <td>Thailand</td>\n",
       "            <td>513120</td>\n",
       "            <td>510890</td>\n",
       "            <td>2230</td>\n",
       "            <td>67976405</td>\n",
       "            <td>0.34</td>\n",
       "            <td>11.19</td>\n",
       "            <td>7.8</td>\n",
       "            <td>0.0</td>\n",
       "        </tr>\n",
       "        <tr>\n",
       "            <td>185</td>\n",
       "            <td>uk</td>\n",
       "            <td>United Kingdom</td>\n",
       "            <td>243610</td>\n",
       "            <td>241930</td>\n",
       "            <td>1680</td>\n",
       "            <td>64088222</td>\n",
       "            <td>0.54</td>\n",
       "            <td>12.17</td>\n",
       "            <td>9.35</td>\n",
       "            <td>2.54</td>\n",
       "        </tr>\n",
       "        <tr>\n",
       "            <td>83</td>\n",
       "            <td>it</td>\n",
       "            <td>Italy</td>\n",
       "            <td>301340</td>\n",
       "            <td>294140</td>\n",
       "            <td>7200</td>\n",
       "            <td>61855120</td>\n",
       "            <td>0.27</td>\n",
       "            <td>8.74</td>\n",
       "            <td>10.19</td>\n",
       "            <td>4.1</td>\n",
       "        </tr>\n",
       "        <tr>\n",
       "            <td>91</td>\n",
       "            <td>ks</td>\n",
       "            <td>Korea, South</td>\n",
       "            <td>99720</td>\n",
       "            <td>96920</td>\n",
       "            <td>2800</td>\n",
       "            <td>49115196</td>\n",
       "            <td>0.14</td>\n",
       "            <td>8.19</td>\n",
       "            <td>6.75</td>\n",
       "            <td>0.0</td>\n",
       "        </tr>\n",
       "        <tr>\n",
       "            <td>163</td>\n",
       "            <td>sp</td>\n",
       "            <td>Spain</td>\n",
       "            <td>505370</td>\n",
       "            <td>498980</td>\n",
       "            <td>6390</td>\n",
       "            <td>48146134</td>\n",
       "            <td>0.89</td>\n",
       "            <td>9.64</td>\n",
       "            <td>9.04</td>\n",
       "            <td>8.31</td>\n",
       "        </tr>\n",
       "        <tr>\n",
       "            <td>139</td>\n",
       "            <td>pl</td>\n",
       "            <td>Poland</td>\n",
       "            <td>312685</td>\n",
       "            <td>304255</td>\n",
       "            <td>8430</td>\n",
       "            <td>38562189</td>\n",
       "            <td>0.09</td>\n",
       "            <td>9.74</td>\n",
       "            <td>10.19</td>\n",
       "            <td>0.46</td>\n",
       "        </tr>\n",
       "        <tr>\n",
       "            <td>182</td>\n",
       "            <td>ug</td>\n",
       "            <td>Uganda</td>\n",
       "            <td>241038</td>\n",
       "            <td>197100</td>\n",
       "            <td>43938</td>\n",
       "            <td>37101745</td>\n",
       "            <td>3.24</td>\n",
       "            <td>43.79</td>\n",
       "            <td>10.69</td>\n",
       "            <td>0.74</td>\n",
       "        </tr>\n",
       "        <tr>\n",
       "            <td>80</td>\n",
       "            <td>iz</td>\n",
       "            <td>Iraq</td>\n",
       "            <td>438317</td>\n",
       "            <td>437367</td>\n",
       "            <td>950</td>\n",
       "            <td>37056169</td>\n",
       "            <td>2.93</td>\n",
       "            <td>31.45</td>\n",
       "            <td>3.77</td>\n",
       "            <td>1.62</td>\n",
       "        </tr>\n",
       "        <tr>\n",
       "            <td>120</td>\n",
       "            <td>mo</td>\n",
       "            <td>Morocco</td>\n",
       "            <td>446550</td>\n",
       "            <td>446300</td>\n",
       "            <td>250</td>\n",
       "            <td>33322699</td>\n",
       "            <td>1.0</td>\n",
       "            <td>18.2</td>\n",
       "            <td>4.81</td>\n",
       "            <td>3.36</td>\n",
       "        </tr>\n",
       "    </tbody>\n",
       "</table>"
      ],
      "text/plain": [
       "[(14, 'bg', 'Bangladesh', 148460, 130170, 18290, 168957745, 1.6, 21.14, 5.61, 0.46),\n",
       " (85, 'ja', 'Japan', 377915, 364485, 13430, 126919659, 0.16, 7.93, 9.51, 0.0),\n",
       " (138, 'rp', 'Philippines', 300000, 298170, 1830, 100998376, 1.61, 24.27, 6.11, 2.09),\n",
       " (192, 'vm', 'Vietnam', 331210, 310070, 21140, 94348835, 0.97, 15.96, 5.93, 0.3),\n",
       " (65, 'gm', 'Germany', 357022, 348672, 8350, 80854408, 0.17, 8.47, 11.42, 1.24),\n",
       " (173, 'th', 'Thailand', 513120, 510890, 2230, 67976405, 0.34, 11.19, 7.8, 0.0),\n",
       " (185, 'uk', 'United Kingdom', 243610, 241930, 1680, 64088222, 0.54, 12.17, 9.35, 2.54),\n",
       " (83, 'it', 'Italy', 301340, 294140, 7200, 61855120, 0.27, 8.74, 10.19, 4.1),\n",
       " (91, 'ks', 'Korea, South', 99720, 96920, 2800, 49115196, 0.14, 8.19, 6.75, 0.0),\n",
       " (163, 'sp', 'Spain', 505370, 498980, 6390, 48146134, 0.89, 9.64, 9.04, 8.31),\n",
       " (139, 'pl', 'Poland', 312685, 304255, 8430, 38562189, 0.09, 9.74, 10.19, 0.46),\n",
       " (182, 'ug', 'Uganda', 241038, 197100, 43938, 37101745, 3.24, 43.79, 10.69, 0.74),\n",
       " (80, 'iz', 'Iraq', 438317, 437367, 950, 37056169, 2.93, 31.45, 3.77, 1.62),\n",
       " (120, 'mo', 'Morocco', 446550, 446300, 250, 33322699, 1.0, 18.2, 4.81, 3.36)]"
      ]
     },
     "execution_count": 19,
     "metadata": {},
     "output_type": "execute_result"
    }
   ],
   "source": [
    "%%sql\n",
    "SELECT f.*\n",
    "  FROM facts f\n",
    " WHERE (f.population > (SELECT AVG(population)\n",
    "                         FROM facts\n",
    "                        WHERE (name <> 'World')))\n",
    "   AND (f.area < (SELECT AVG(area)\n",
    "                    FROM facts\n",
    "                   WHERE (name <> 'World')))\n",
    " ORDER BY population DESC;"
   ]
  },
  {
   "cell_type": "markdown",
   "id": "ae895b3b",
   "metadata": {},
   "source": [
    "Just out of curiosity I wanted to identify countries which have a high population density, an above average population, and a low population growth rate. To make this code simpler to follow I utilized CTE's to write it. I started by identifying the 30 countries with an above average population density and with an above average population.\n",
    "\n",
    "In a sperate table I identified the 30 countries with the lowest population growth. To ensure the desired countries were targeted I removed all countries with 'None' listed for population growth, birth rate, or death rate. These were removed because the countries which reported 'None' were outlier such as the Vatican City, remote islands, and countries which did not supply the adequate data.\n",
    "\n",
    "I then took the intersect of the two tables I had created to identify which countries, if any, had a high population with a high population density, and an extremely low population growth."
   ]
  },
  {
   "cell_type": "code",
   "execution_count": 55,
   "id": "e1ca1de9",
   "metadata": {},
   "outputs": [
    {
     "name": "stdout",
     "output_type": "stream",
     "text": [
      " * sqlite:///factbook.db\n",
      "Done.\n"
     ]
    },
    {
     "data": {
      "text/html": [
       "<table>\n",
       "    <thead>\n",
       "        <tr>\n",
       "            <th>id</th>\n",
       "            <th>code</th>\n",
       "            <th>name</th>\n",
       "            <th>area</th>\n",
       "            <th>area_land</th>\n",
       "            <th>area_water</th>\n",
       "            <th>population</th>\n",
       "            <th>population_growth</th>\n",
       "            <th>birth_rate</th>\n",
       "            <th>death_rate</th>\n",
       "            <th>migration_rate</th>\n",
       "            <th>pop_density</th>\n",
       "        </tr>\n",
       "    </thead>\n",
       "    <tbody>\n",
       "        <tr>\n",
       "            <td>139</td>\n",
       "            <td>pl</td>\n",
       "            <td>Poland</td>\n",
       "            <td>312685</td>\n",
       "            <td>304255</td>\n",
       "            <td>8430</td>\n",
       "            <td>38562189</td>\n",
       "            <td>0.09</td>\n",
       "            <td>9.74</td>\n",
       "            <td>10.19</td>\n",
       "            <td>0.46</td>\n",
       "            <td>123</td>\n",
       "        </tr>\n",
       "        <tr>\n",
       "            <td>91</td>\n",
       "            <td>ks</td>\n",
       "            <td>Korea, South</td>\n",
       "            <td>99720</td>\n",
       "            <td>96920</td>\n",
       "            <td>2800</td>\n",
       "            <td>49115196</td>\n",
       "            <td>0.14</td>\n",
       "            <td>8.19</td>\n",
       "            <td>6.75</td>\n",
       "            <td>0.0</td>\n",
       "            <td>492</td>\n",
       "        </tr>\n",
       "        <tr>\n",
       "            <td>85</td>\n",
       "            <td>ja</td>\n",
       "            <td>Japan</td>\n",
       "            <td>377915</td>\n",
       "            <td>364485</td>\n",
       "            <td>13430</td>\n",
       "            <td>126919659</td>\n",
       "            <td>0.16</td>\n",
       "            <td>7.93</td>\n",
       "            <td>9.51</td>\n",
       "            <td>0.0</td>\n",
       "            <td>335</td>\n",
       "        </tr>\n",
       "        <tr>\n",
       "            <td>65</td>\n",
       "            <td>gm</td>\n",
       "            <td>Germany</td>\n",
       "            <td>357022</td>\n",
       "            <td>348672</td>\n",
       "            <td>8350</td>\n",
       "            <td>80854408</td>\n",
       "            <td>0.17</td>\n",
       "            <td>8.47</td>\n",
       "            <td>11.42</td>\n",
       "            <td>1.24</td>\n",
       "            <td>226</td>\n",
       "        </tr>\n",
       "    </tbody>\n",
       "</table>"
      ],
      "text/plain": [
       "[(139, 'pl', 'Poland', 312685, 304255, 8430, 38562189, 0.09, 9.74, 10.19, 0.46, 123),\n",
       " (91, 'ks', 'Korea, South', 99720, 96920, 2800, 49115196, 0.14, 8.19, 6.75, 0.0, 492),\n",
       " (85, 'ja', 'Japan', 377915, 364485, 13430, 126919659, 0.16, 7.93, 9.51, 0.0, 335),\n",
       " (65, 'gm', 'Germany', 357022, 348672, 8350, 80854408, 0.17, 8.47, 11.42, 1.24, 226)]"
      ]
     },
     "execution_count": 55,
     "metadata": {},
     "output_type": "execute_result"
    }
   ],
   "source": [
    "%%sql\n",
    "\n",
    "WITH\n",
    "avg_density AS (\n",
    "SELECT AVG(population)/AVG(area) avg_pop_density\n",
    "  FROM facts\n",
    " WHERE name <> 'World'\n",
    "   ),\n",
    "    \n",
    "avg_pop AS (\n",
    "SELECT AVG(population) avg_population\n",
    "  FROM facts\n",
    " WHERE name <> 'World'\n",
    "   ),\n",
    "\n",
    "high_pop_popdens AS (\n",
    "SELECT *,\n",
    "       population/area pop_density\n",
    "  FROM facts\n",
    " WHERE (pop_density > (SELECT avg_pop_density\n",
    "                       FROM avg_density))\n",
    "   AND (population > (SELECT avg_population\n",
    "                      FROM avg_pop))\n",
    " ORDER BY pop_density DESC\n",
    " LIMIT 30\n",
    "  ),\n",
    "\n",
    "valid_pop_info AS (\n",
    "SELECT *\n",
    "  FROM facts\n",
    " WHERE (population_growth <> 'None')\n",
    "   AND (birth_rate <> 'None')\n",
    "   AND (death_rate <> 'None')\n",
    "  ),\n",
    "\n",
    "low_pop_growth AS (\n",
    "SELECT *, population/area pop_density\n",
    "  FROM facts\n",
    " WHERE (name IN (SELECT name\n",
    "                   FROM valid_pop_info))\n",
    " ORDER BY population_growth\n",
    " LIMIT 30\n",
    "  )\n",
    "\n",
    "SELECT *\n",
    "     FROM high_pop_popdens\n",
    "INTERSECT\n",
    "   SELECT *\n",
    "     FROM low_pop_growth\n",
    "    ORDER BY population_growth;"
   ]
  },
  {
   "cell_type": "markdown",
   "id": "16dfd9c2",
   "metadata": {},
   "source": [
    "Four countries were identified as having a high population density, an above average population, and a low population growth rate. The four countries identified, in order of population growth, were: Poland, South Korea, Japan, and Germany. Interestingly, South Korea, Japan, and Germany, are known for being technologically advanced and highly educated societies."
   ]
  }
 ],
 "metadata": {
  "kernelspec": {
   "display_name": "Python 3 (ipykernel)",
   "language": "python",
   "name": "python3"
  },
  "language_info": {
   "codemirror_mode": {
    "name": "ipython",
    "version": 3
   },
   "file_extension": ".py",
   "mimetype": "text/x-python",
   "name": "python",
   "nbconvert_exporter": "python",
   "pygments_lexer": "ipython3",
   "version": "3.9.13"
  }
 },
 "nbformat": 4,
 "nbformat_minor": 5
}
